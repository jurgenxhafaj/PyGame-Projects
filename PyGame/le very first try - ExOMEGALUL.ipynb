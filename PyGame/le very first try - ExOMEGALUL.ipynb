{
 "cells": [
  {
   "cell_type": "code",
   "execution_count": null,
   "metadata": {},
   "outputs": [],
   "source": []
  },
  {
   "cell_type": "code",
   "execution_count": null,
   "metadata": {},
   "outputs": [],
   "source": []
  },
  {
   "cell_type": "code",
   "execution_count": 1,
   "metadata": {},
   "outputs": [
    {
     "name": "stdout",
     "output_type": "stream",
     "text": [
      "pygame 1.9.4\n",
      "Hello from the pygame community. https://www.pygame.org/contribute.html\n"
     ]
    },
    {
     "ename": "error",
     "evalue": "Couldn't open exo.png",
     "output_type": "error",
     "traceback": [
      "\u001b[1;31m---------------------------------------------------------------------------\u001b[0m",
      "\u001b[1;31merror\u001b[0m                                     Traceback (most recent call last)",
      "\u001b[1;32m<ipython-input-1-76443e14960e>\u001b[0m in \u001b[0;36m<module>\u001b[1;34m\u001b[0m\n\u001b[0;32m     43\u001b[0m         \u001b[0mself\u001b[0m\u001b[1;33m.\u001b[0m\u001b[0mrect\u001b[0m\u001b[1;33m.\u001b[0m\u001b[0mleft\u001b[0m\u001b[1;33m,\u001b[0m \u001b[0mself\u001b[0m\u001b[1;33m.\u001b[0m\u001b[0mrect\u001b[0m\u001b[1;33m.\u001b[0m\u001b[0mtop\u001b[0m \u001b[1;33m=\u001b[0m \u001b[0mlocation\u001b[0m\u001b[1;33m\u001b[0m\u001b[1;33m\u001b[0m\u001b[0m\n\u001b[0;32m     44\u001b[0m \u001b[1;33m\u001b[0m\u001b[0m\n\u001b[1;32m---> 45\u001b[1;33m \u001b[0mBackGround\u001b[0m \u001b[1;33m=\u001b[0m \u001b[0mBackground\u001b[0m\u001b[1;33m(\u001b[0m\u001b[1;34m'exo.png'\u001b[0m\u001b[1;33m,\u001b[0m \u001b[1;33m[\u001b[0m\u001b[1;36m0\u001b[0m\u001b[1;33m,\u001b[0m\u001b[1;36m0\u001b[0m\u001b[1;33m]\u001b[0m\u001b[1;33m)\u001b[0m\u001b[1;33m\u001b[0m\u001b[1;33m\u001b[0m\u001b[0m\n\u001b[0m\u001b[0;32m     46\u001b[0m \u001b[1;33m\u001b[0m\u001b[0m\n\u001b[0;32m     47\u001b[0m \u001b[1;33m\u001b[0m\u001b[0m\n",
      "\u001b[1;32m<ipython-input-1-76443e14960e>\u001b[0m in \u001b[0;36m__init__\u001b[1;34m(self, image_file, location)\u001b[0m\n\u001b[0;32m     39\u001b[0m     \u001b[1;32mdef\u001b[0m \u001b[0m__init__\u001b[0m\u001b[1;33m(\u001b[0m\u001b[0mself\u001b[0m\u001b[1;33m,\u001b[0m \u001b[0mimage_file\u001b[0m\u001b[1;33m,\u001b[0m \u001b[0mlocation\u001b[0m\u001b[1;33m)\u001b[0m\u001b[1;33m:\u001b[0m\u001b[1;33m\u001b[0m\u001b[1;33m\u001b[0m\u001b[0m\n\u001b[0;32m     40\u001b[0m         \u001b[0mpygame\u001b[0m\u001b[1;33m.\u001b[0m\u001b[0msprite\u001b[0m\u001b[1;33m.\u001b[0m\u001b[0mSprite\u001b[0m\u001b[1;33m.\u001b[0m\u001b[0m__init__\u001b[0m\u001b[1;33m(\u001b[0m\u001b[0mself\u001b[0m\u001b[1;33m)\u001b[0m  \u001b[1;31m#call Sprite initializer\u001b[0m\u001b[1;33m\u001b[0m\u001b[1;33m\u001b[0m\u001b[0m\n\u001b[1;32m---> 41\u001b[1;33m         \u001b[0mself\u001b[0m\u001b[1;33m.\u001b[0m\u001b[0mimage\u001b[0m \u001b[1;33m=\u001b[0m \u001b[0mpygame\u001b[0m\u001b[1;33m.\u001b[0m\u001b[0mimage\u001b[0m\u001b[1;33m.\u001b[0m\u001b[0mload\u001b[0m\u001b[1;33m(\u001b[0m\u001b[0mimage_file\u001b[0m\u001b[1;33m)\u001b[0m\u001b[1;33m\u001b[0m\u001b[1;33m\u001b[0m\u001b[0m\n\u001b[0m\u001b[0;32m     42\u001b[0m         \u001b[0mself\u001b[0m\u001b[1;33m.\u001b[0m\u001b[0mrect\u001b[0m \u001b[1;33m=\u001b[0m \u001b[0mself\u001b[0m\u001b[1;33m.\u001b[0m\u001b[0mimage\u001b[0m\u001b[1;33m.\u001b[0m\u001b[0mget_rect\u001b[0m\u001b[1;33m(\u001b[0m\u001b[1;33m)\u001b[0m\u001b[1;33m\u001b[0m\u001b[1;33m\u001b[0m\u001b[0m\n\u001b[0;32m     43\u001b[0m         \u001b[0mself\u001b[0m\u001b[1;33m.\u001b[0m\u001b[0mrect\u001b[0m\u001b[1;33m.\u001b[0m\u001b[0mleft\u001b[0m\u001b[1;33m,\u001b[0m \u001b[0mself\u001b[0m\u001b[1;33m.\u001b[0m\u001b[0mrect\u001b[0m\u001b[1;33m.\u001b[0m\u001b[0mtop\u001b[0m \u001b[1;33m=\u001b[0m \u001b[0mlocation\u001b[0m\u001b[1;33m\u001b[0m\u001b[1;33m\u001b[0m\u001b[0m\n",
      "\u001b[1;31merror\u001b[0m: Couldn't open exo.png"
     ]
    }
   ],
   "source": [
    "import pygame, sys, pygame.locals#1\n",
    "pygame.init()#2\n",
    "window=pygame.display.set_mode((500, 400), 0, 32)#3\n",
    "pygame.display.set_caption(\"ExOMEGALUL\")#4\n",
    "\n",
    "BLACK = (0, 0, 0)#5\n",
    "WHITE = (255, 255, 255)#6\n",
    "RED = (255, 0, 0)#7\n",
    "GREEN = (0, 255, 0)#8\n",
    "BLUE = (0, 0, 255)#9\n",
    "\n",
    "pentagon=pygame.Surface((250, 265))#10\n",
    "pentagon.fill((0, 0, 0))#11\n",
    "pygame.draw.polygon(pentagon, BLUE, ((146, 0), (250, 100), (230, 265), (44, 250), (0,110)))#12\n",
    "pentagon.set_colorkey((0, 0, 0))#13\n",
    "\n",
    "triangle=pygame.Surface((150, 200))#14\n",
    "triangle.fill((0, 0, 0))#15\n",
    "pygame.draw.polygon(triangle, RED, ((70, 0), (150, 200), (0, 50)))#16\n",
    "triangle.set_colorkey((0, 0, 0))#17\n",
    "\n",
    "line=pygame.Surface((60, 8))#18\n",
    "line.fill(BLACK)#19\n",
    "\n",
    "circle=pygame.Surface((30, 30))#20\n",
    "circle.fill((0, 0, 0))#21\n",
    "pygame.draw.circle(circle, GREEN , (15, 15), 15, 0)#22\n",
    "circle.set_colorkey((0, 0, 0))#23\n",
    "\n",
    "rects={'pentagon': pentagon.get_rect(), 'triangle': triangle.get_rect(), 'line': line.get_rect(), 'circle': circle.get_rect()}#24\n",
    "rects['line'].centery=60#25\n",
    "rects['line'].left=60#26\n",
    "rects['circle'].centerx=150#27\n",
    "rects['circle'].centery=150#28\n",
    "\n",
    "\n",
    "\n",
    "class Background(pygame.sprite.Sprite):\n",
    "    def __init__(self, image_file, location):\n",
    "        pygame.sprite.Sprite.__init__(self)  #call Sprite initializer\n",
    "        self.image = pygame.image.load(image_file)\n",
    "        self.rect = self.image.get_rect()\n",
    "        self.rect.left, self.rect.top = location\n",
    "        \n",
    "BackGround = Background('exo.png', [0,0])\n",
    "\n",
    "\n",
    "\n",
    "\n",
    "while True:#29   \n",
    "    for event in pygame.event.get():#30\n",
    "        if event.type==pygame.locals.QUIT:#31\n",
    "            pygame.quit()#32\n",
    "            sys.exit()#33\n",
    "    for rect in rects:#34\n",
    "        rects[rect].right+=1#35\n",
    "        if rects[rect].right>500:#36\n",
    "            if rect=='line':#37\n",
    "                rects['line'].centery=60#38\n",
    "                rects['line'].left=60#39\n",
    "            elif rect=='circle':#40\n",
    "                rects['circle'].centerx=150#41\n",
    "                rects['circle'].centery=150#42\n",
    "            else:#43\n",
    "                rects[rect].topleft=(0, 0)#44\n",
    "    #window.fill(WHITE)#45\n",
    "    \n",
    "  \n",
    "    window.fill([255, 255, 255])\n",
    "    window.blit(BackGround.image, BackGround.rect)\n",
    "    \n",
    "    \n",
    "\n",
    "    window.blit(pentagon, rects['pentagon'])#46\n",
    "    window.blit(triangle, rects['triangle'])#47\n",
    "    window.blit(line, rects['line'])#48\n",
    "    window.blit(circle, rects['circle'])#49\n",
    "    \n",
    "\n",
    "    \n",
    "    pygame.time.Clock().tick(40)#50\n",
    "    pygame.display.update()#51"
   ]
  },
  {
   "cell_type": "code",
   "execution_count": null,
   "metadata": {},
   "outputs": [],
   "source": []
  },
  {
   "cell_type": "code",
   "execution_count": null,
   "metadata": {},
   "outputs": [],
   "source": []
  },
  {
   "cell_type": "code",
   "execution_count": null,
   "metadata": {},
   "outputs": [],
   "source": []
  },
  {
   "cell_type": "code",
   "execution_count": null,
   "metadata": {},
   "outputs": [],
   "source": []
  },
  {
   "cell_type": "code",
   "execution_count": null,
   "metadata": {},
   "outputs": [],
   "source": [
    "import pygame\n",
    "import sys\n",
    "from math import *\n",
    "import random\n",
    "import time"
   ]
  },
  {
   "cell_type": "code",
   "execution_count": null,
   "metadata": {},
   "outputs": [],
   "source": [
    "pygame.init()\n",
    "width = 660\n",
    "height = 360\n",
    "outerHeight = 400\n",
    "margin = 30\n",
    "display = pygame.display.set_mode((width, outerHeight))\n",
    "pygame.display.set_caption(\"8 Ball Pool\")\n",
    "clock = pygame.time.Clock()"
   ]
  },
  {
   "cell_type": "code",
   "execution_count": null,
   "metadata": {},
   "outputs": [],
   "source": []
  },
  {
   "cell_type": "code",
   "execution_count": null,
   "metadata": {},
   "outputs": [],
   "source": [
    "# Ball Class\n",
    "class Ball:\n",
    "    def __init__(self, x, y, speed, color, angle, ballNum):\n",
    "        self.x = x + radius\n",
    "        self.y = y + radius\n",
    "        self.color = color\n",
    "        self.angle = angle\n",
    "        self.speed = speed\n",
    "        self.ballNum = ballNum\n",
    "        self.font = pygame.font.SysFont(\"Agency FB\", 10)\n",
    "\n",
    "    # Draws Balls on Display Window\n",
    "    def draw(self, x, y):\n",
    "        pygame.draw.ellipse(display, self.color, (x - radius, y - radius, radius*2, radius*2))\n",
    "        if self.color == black or self.ballNum == \"cue\":\n",
    "            ballNo = self.font.render(str(self.ballNum), True, white)\n",
    "        else:\n",
    "            ballNo = self.font.render(str(self.ballNum), True, black)\n",
    "\n",
    "        if self.ballNum > 9:\n",
    "            display.blit(ballNo, (x - 6, y - 5))\n",
    "        else:\n",
    "            display.blit(ballNo, (x - 5, y - 5))\n",
    "            \n",
    "    # Moves the Ball around the Screen\n",
    "    def move(self):\n",
    "        self.speed -= friction\n",
    "        if self.speed <= 0:\n",
    "            self.speed = 0\n",
    "        self.x = self.x + self.speed*cos(radians(self.angle))\n",
    "        self.y = self.y + self.speed*sin(radians(self.angle))\n",
    "\n",
    "        if not (self.x < width - radius - margin):\n",
    "            self.x = width - radius - margin\n",
    "            self.angle = 180 - self.angle\n",
    "        if not(radius + margin < self.x):\n",
    "            self.x = radius + margin\n",
    "            self.angle = 180 - self.angle\n",
    "        if not (self.y < height - radius - margin):\n",
    "            self.y = height - radius - margin\n",
    "            self.angle = 360 - self.angle\n",
    "        if not(radius + margin < self.y):\n",
    "            self.y = radius + margin\n",
    "            self.angle = 360 - self.angle\n"
   ]
  },
  {
   "cell_type": "code",
   "execution_count": null,
   "metadata": {},
   "outputs": [],
   "source": []
  },
  {
   "cell_type": "code",
   "execution_count": null,
   "metadata": {},
   "outputs": [],
   "source": []
  },
  {
   "cell_type": "code",
   "execution_count": null,
   "metadata": {},
   "outputs": [],
   "source": [
    "def border():\n",
    "    pygame.draw.rect(display, gray, (0, 0, width, 30))\n",
    "    pygame.draw.rect(display, gray, (0, 0, 30, height))\n",
    "    pygame.draw.rect(display, gray, (width - 30, 0, width, height))\n",
    "    pygame.draw.rect(display, gray, (0, height - 30, width, height))"
   ]
  },
  {
   "cell_type": "code",
   "execution_count": null,
   "metadata": {},
   "outputs": [],
   "source": [
    "        pygame.display.update()\n",
    "        clock.tick(60)"
   ]
  },
  {
   "cell_type": "code",
   "execution_count": null,
   "metadata": {},
   "outputs": [],
   "source": []
  },
  {
   "cell_type": "code",
   "execution_count": null,
   "metadata": {},
   "outputs": [],
   "source": []
  },
  {
   "cell_type": "code",
   "execution_count": null,
   "metadata": {},
   "outputs": [],
   "source": []
  },
  {
   "cell_type": "code",
   "execution_count": null,
   "metadata": {},
   "outputs": [],
   "source": [
    "import pygame\n",
    "import sys\n",
    "from math import *\n",
    "import random\n",
    "\n",
    "pygame.init()\n",
    "width = 660\n",
    "height = 360\n",
    "outerHeight = 400\n",
    "margin = 30\n",
    "display = pygame.display.set_mode((width, outerHeight))\n",
    "pygame.display.set_caption(\"8 Ball Pool\")\n",
    "clock = pygame.time.Clock()\n",
    "\n",
    "background = (51, 51, 51)\n",
    "white = (236, 240, 241)\n",
    "\n",
    "gray = (123, 125, 125)\n",
    "\n",
    "black = (23, 32, 42)\n",
    "yellow = (244, 208, 63)\n",
    "blue = (52, 152, 219)\n",
    "red = (203, 67, 53)\n",
    "purple = (136, 78, 160)\n",
    "orange = (230, 126, 34)\n",
    "green = (40, 180, 99)\n",
    "brown = (100, 30, 22)\n",
    "stickColor = (249, 231, 159)\n",
    "\n",
    "colors = [yellow, blue, red, purple, orange, green, brown, black, yellow, blue, red, purple, orange, green, brown]\n",
    "\n",
    "balls = []\n",
    "noBalls = 15\n",
    "radius = 10\n",
    "friction = 0.005\n"
   ]
  },
  {
   "cell_type": "code",
   "execution_count": null,
   "metadata": {},
   "outputs": [],
   "source": [
    "# Ball Class\n",
    "class Ball:\n",
    "    def __init__(self, x, y, speed, color, angle, ballNum):\n",
    "        self.x = x + radius\n",
    "        self.y = y + radius\n",
    "        self.color = color\n",
    "        self.angle = angle\n",
    "        self.speed = speed\n",
    "        self.ballNum = ballNum\n",
    "        self.font = pygame.font.SysFont(\"Agency FB\", 10)\n",
    "\n",
    "    # Draws Balls on Display Window\n",
    "    def draw(self, x, y):\n",
    "        pygame.draw.ellipse(display, self.color, (x - radius, y - radius, radius*2, radius*2))\n",
    "        if self.color == black or self.ballNum == \"cue\":\n",
    "            ballNo = self.font.render(str(self.ballNum), True, white)\n",
    "        else:\n",
    "            ballNo = self.font.render(str(self.ballNum), True, black)\n",
    "\n",
    "        if self.ballNum > 9:\n",
    "            display.blit(ballNo, (x - 6, y - 5))\n",
    "        else:\n",
    "            display.blit(ballNo, (x - 5, y - 5))\n",
    "            \n",
    "    # Moves the Ball around the Screen\n",
    "    def move(self):\n",
    "        self.speed -= friction\n",
    "        if self.speed <= 0:\n",
    "            self.speed = 0\n",
    "        self.x = self.x + self.speed*cos(radians(self.angle))\n",
    "        self.y = self.y + self.speed*sin(radians(self.angle))\n",
    "\n",
    "        if not (self.x < width - radius - margin):\n",
    "            self.x = width - radius - margin\n",
    "            self.angle = 180 - self.angle\n",
    "        if not(radius + margin < self.x):\n",
    "            self.x = radius + margin\n",
    "            self.angle = 180 - self.angle\n",
    "        if not (self.y < height - radius - margin):\n",
    "            self.y = height - radius - margin\n",
    "            self.angle = 360 - self.angle\n",
    "        if not(radius + margin < self.y):\n",
    "            self.y = radius + margin\n",
    "            self.angle = 360 - self.angle\n"
   ]
  },
  {
   "cell_type": "code",
   "execution_count": null,
   "metadata": {},
   "outputs": [],
   "source": []
  },
  {
   "cell_type": "code",
   "execution_count": null,
   "metadata": {},
   "outputs": [],
   "source": [
    "def border():\n",
    "    pygame.draw.rect(display, gray, (0, 0, width, 30))\n",
    "    pygame.draw.rect(display, gray, (0, 0, 30, height))\n",
    "    pygame.draw.rect(display, gray, (width - 30, 0, width, height))\n",
    "    pygame.draw.rect(display, gray, (0, height - 30, width, height))"
   ]
  },
  {
   "cell_type": "code",
   "execution_count": null,
   "metadata": {},
   "outputs": [],
   "source": [
    "def gameOver():\n",
    "    font = pygame.font.SysFont(\"Agency FB\", 75)\n",
    "    if len(balls) == 0:\n",
    "        text = font.render(\"You Won!\", True, (133, 193, 233))\n",
    "    else:\n",
    "        text = font.render(\"You Lost! Black in Hole!\", True, (241, 148, 138))\n",
    "\n",
    "    while True:\n",
    "        for event in pygame.event.get():\n",
    "            if event.type == pygame.QUIT:\n",
    "                close()\n",
    "            if event.type == pygame.KEYDOWN:\n",
    "                if event.key == pygame.K_q:\n",
    "                    close()\n",
    "\n",
    "                if event.key == pygame.K_r:\n",
    "                    poolTable()\n",
    "        display.blit(text, (50, height/2))\n",
    "\n",
    "        pygame.display.update()\n",
    "        clock.tick()"
   ]
  },
  {
   "cell_type": "code",
   "execution_count": null,
   "metadata": {},
   "outputs": [],
   "source": [
    "def close():\n",
    "    pygame.quit()\n",
    "    sys.exit()"
   ]
  },
  {
   "cell_type": "code",
   "execution_count": null,
   "metadata": {},
   "outputs": [],
   "source": [
    "# Main Function\n",
    "def poolTable():\n",
    "    loop = True\n",
    "\n",
    "    reset()\n",
    "    \n",
    "    noPockets = 6\n",
    "    pockets = []\n",
    "\n",
    "    p1 = Pockets(0, 0, black)\n",
    "    p2 = Pockets(width/2 - p1.r*2, 0, black)\n",
    "    p3 = Pockets(width - p1.r - margin - 5, 0, black)\n",
    "    p4 = Pockets(0, height - margin - 5 - p1.r, black)\n",
    "    p5 = Pockets(width/2 - p1.r*2, height - margin - 5 - p1.r, black)\n",
    "    p6 = Pockets(width - p1.r - margin - 5, height - margin - 5 - p1.r, black)\n",
    "    \n",
    "    pockets.append(p1)\n",
    "    pockets.append(p2)\n",
    "    pockets.append(p3)\n",
    "    pockets.append(p4)\n",
    "    pockets.append(p5)\n",
    "    pockets.append(p6)\n",
    "\n",
    "    cueBall = Ball(width/2, height/2, 0, white, 0, \"cue\")\n",
    "    cueStick = CueStick(0, 0, 100, stickColor)\n",
    "    \n",
    "    \n",
    "    start = 0\n",
    "    end = 0\n",
    "    \n",
    "    while loop:\n",
    "        for event in pygame.event.get():\n",
    "            if event.type == pygame.QUIT:\n",
    "                close()\n",
    "            if event.type == pygame.KEYDOWN:\n",
    "                if event.key == pygame.K_q:\n",
    "                    close()\n",
    "\n",
    "                if event.key == pygame.K_r:\n",
    "                    poolTable()\n",
    "\n",
    "            if event.type == pygame.MOUSEBUTTONDOWN:\n",
    "                start = [cueBall.x, cueBall.y]\n",
    "                x, y = pygame.mouse.get_pos()\n",
    "                end = [x ,y]\n",
    "                dist = ((start[0] - end[0])**2 + (start[1] - end[1])**2)**0.5\n",
    "                force = dist/10.0\n",
    "                if force > 10:\n",
    "                    force = 10\n",
    "\n",
    "                cueStick.applyForce(cueBall, force)\n",
    "                \n",
    "\n",
    "        display.fill(background)\n",
    "\n",
    "        cueBall.draw(cueBall.x, cueBall.y)\n",
    "        cueBall.move()\n",
    "\n",
    "        if not (cueBall.speed > 0):\n",
    "            \n",
    "            cueStick.draw(cueBall.x, cueBall.y)\n",
    "        \n",
    "        for i in range(len(balls)):\n",
    "            balls[i].draw(balls[i].x, balls[i].y)\n",
    "\n",
    "        for i in range(len(balls)):\n",
    "           balls[i].move()\n",
    "        \n",
    "        checkCollision()\n",
    "        checkCueCollision(cueBall)\n",
    "        border()\n",
    "        \n",
    "        for i in range(noPockets):\n",
    "            pockets[i].draw()\n",
    "            \n",
    "        for i in range(noPockets):\n",
    "            pockets[i].checkPut()\n",
    "\n",
    "        if len(balls) == 1 and balls[0].ballNum == 8:\n",
    "            gameOver()\n",
    "\n",
    "        score()            \n",
    "        \n",
    "        pygame.display.update()\n",
    "        clock.tick(60)\n",
    "\n",
    "poolTable()"
   ]
  },
  {
   "cell_type": "code",
   "execution_count": null,
   "metadata": {},
   "outputs": [],
   "source": []
  },
  {
   "cell_type": "code",
   "execution_count": null,
   "metadata": {},
   "outputs": [],
   "source": []
  },
  {
   "cell_type": "code",
   "execution_count": null,
   "metadata": {},
   "outputs": [],
   "source": [
    "gameLoop()"
   ]
  },
  {
   "cell_type": "code",
   "execution_count": null,
   "metadata": {},
   "outputs": [],
   "source": []
  },
  {
   "cell_type": "code",
   "execution_count": null,
   "metadata": {},
   "outputs": [],
   "source": [
    "rect = pygame.Rect(10, 20, 30, 30)"
   ]
  },
  {
   "cell_type": "code",
   "execution_count": null,
   "metadata": {},
   "outputs": [],
   "source": [
    "surface=pygame.image.load('exo.png')"
   ]
  },
  {
   "cell_type": "code",
   "execution_count": null,
   "metadata": {},
   "outputs": [],
   "source": []
  },
  {
   "cell_type": "code",
   "execution_count": null,
   "metadata": {},
   "outputs": [],
   "source": [
    "pygame.draw.rect(surface, color='Red', rect, width=0)"
   ]
  },
  {
   "cell_type": "code",
   "execution_count": null,
   "metadata": {},
   "outputs": [],
   "source": []
  },
  {
   "cell_type": "markdown",
   "metadata": {},
   "source": [
    "![title](exo.png)"
   ]
  },
  {
   "cell_type": "code",
   "execution_count": null,
   "metadata": {},
   "outputs": [],
   "source": []
  },
  {
   "cell_type": "code",
   "execution_count": null,
   "metadata": {},
   "outputs": [],
   "source": []
  },
  {
   "cell_type": "code",
   "execution_count": null,
   "metadata": {},
   "outputs": [],
   "source": []
  },
  {
   "cell_type": "code",
   "execution_count": null,
   "metadata": {},
   "outputs": [],
   "source": []
  },
  {
   "cell_type": "code",
   "execution_count": null,
   "metadata": {},
   "outputs": [],
   "source": []
  },
  {
   "cell_type": "code",
   "execution_count": null,
   "metadata": {},
   "outputs": [],
   "source": []
  },
  {
   "cell_type": "code",
   "execution_count": null,
   "metadata": {},
   "outputs": [],
   "source": []
  },
  {
   "cell_type": "code",
   "execution_count": null,
   "metadata": {},
   "outputs": [],
   "source": []
  },
  {
   "cell_type": "code",
   "execution_count": null,
   "metadata": {},
   "outputs": [],
   "source": []
  },
  {
   "cell_type": "code",
   "execution_count": null,
   "metadata": {},
   "outputs": [],
   "source": []
  },
  {
   "cell_type": "code",
   "execution_count": null,
   "metadata": {},
   "outputs": [],
   "source": []
  },
  {
   "cell_type": "code",
   "execution_count": null,
   "metadata": {},
   "outputs": [],
   "source": []
  },
  {
   "cell_type": "code",
   "execution_count": null,
   "metadata": {},
   "outputs": [],
   "source": []
  },
  {
   "cell_type": "code",
   "execution_count": null,
   "metadata": {},
   "outputs": [],
   "source": []
  },
  {
   "cell_type": "code",
   "execution_count": null,
   "metadata": {},
   "outputs": [],
   "source": []
  },
  {
   "cell_type": "code",
   "execution_count": null,
   "metadata": {},
   "outputs": [],
   "source": []
  },
  {
   "cell_type": "code",
   "execution_count": null,
   "metadata": {},
   "outputs": [],
   "source": []
  },
  {
   "cell_type": "code",
   "execution_count": null,
   "metadata": {},
   "outputs": [],
   "source": []
  },
  {
   "cell_type": "code",
   "execution_count": null,
   "metadata": {},
   "outputs": [],
   "source": []
  },
  {
   "cell_type": "code",
   "execution_count": null,
   "metadata": {},
   "outputs": [],
   "source": []
  },
  {
   "cell_type": "code",
   "execution_count": null,
   "metadata": {},
   "outputs": [],
   "source": []
  },
  {
   "cell_type": "code",
   "execution_count": null,
   "metadata": {},
   "outputs": [],
   "source": []
  },
  {
   "cell_type": "code",
   "execution_count": null,
   "metadata": {},
   "outputs": [],
   "source": []
  },
  {
   "cell_type": "code",
   "execution_count": null,
   "metadata": {},
   "outputs": [],
   "source": []
  },
  {
   "cell_type": "code",
   "execution_count": null,
   "metadata": {},
   "outputs": [],
   "source": []
  },
  {
   "cell_type": "code",
   "execution_count": null,
   "metadata": {},
   "outputs": [],
   "source": []
  },
  {
   "cell_type": "code",
   "execution_count": null,
   "metadata": {},
   "outputs": [],
   "source": []
  },
  {
   "cell_type": "code",
   "execution_count": null,
   "metadata": {},
   "outputs": [],
   "source": []
  },
  {
   "cell_type": "code",
   "execution_count": null,
   "metadata": {},
   "outputs": [],
   "source": []
  },
  {
   "cell_type": "code",
   "execution_count": null,
   "metadata": {},
   "outputs": [],
   "source": []
  },
  {
   "cell_type": "code",
   "execution_count": null,
   "metadata": {},
   "outputs": [],
   "source": []
  },
  {
   "cell_type": "code",
   "execution_count": null,
   "metadata": {},
   "outputs": [],
   "source": []
  },
  {
   "cell_type": "code",
   "execution_count": null,
   "metadata": {},
   "outputs": [],
   "source": []
  },
  {
   "cell_type": "code",
   "execution_count": null,
   "metadata": {},
   "outputs": [],
   "source": []
  },
  {
   "cell_type": "code",
   "execution_count": null,
   "metadata": {},
   "outputs": [],
   "source": []
  },
  {
   "cell_type": "code",
   "execution_count": null,
   "metadata": {},
   "outputs": [],
   "source": []
  },
  {
   "cell_type": "code",
   "execution_count": null,
   "metadata": {},
   "outputs": [],
   "source": []
  },
  {
   "cell_type": "code",
   "execution_count": null,
   "metadata": {},
   "outputs": [],
   "source": []
  },
  {
   "cell_type": "code",
   "execution_count": null,
   "metadata": {},
   "outputs": [],
   "source": []
  },
  {
   "cell_type": "code",
   "execution_count": null,
   "metadata": {},
   "outputs": [],
   "source": []
  },
  {
   "cell_type": "code",
   "execution_count": null,
   "metadata": {},
   "outputs": [],
   "source": []
  },
  {
   "cell_type": "code",
   "execution_count": null,
   "metadata": {},
   "outputs": [],
   "source": []
  },
  {
   "cell_type": "code",
   "execution_count": null,
   "metadata": {},
   "outputs": [],
   "source": []
  }
 ],
 "metadata": {
  "kernelspec": {
   "display_name": "Python 3",
   "language": "python",
   "name": "python3"
  },
  "language_info": {
   "codemirror_mode": {
    "name": "ipython",
    "version": 3
   },
   "file_extension": ".py",
   "mimetype": "text/x-python",
   "name": "python",
   "nbconvert_exporter": "python",
   "pygments_lexer": "ipython3",
   "version": "3.7.1"
  }
 },
 "nbformat": 4,
 "nbformat_minor": 2
}
